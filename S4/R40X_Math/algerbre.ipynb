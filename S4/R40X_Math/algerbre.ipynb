{
 "cells": [
  {
   "cell_type": "code",
   "execution_count": 27,
   "metadata": {},
   "outputs": [],
   "source": [
    "import numpy as np\n",
    "\n",
    "A = np.array(\n",
    "    [[3, 2, 8, -1],\n",
    "    [8, 4, -17, 3],\n",
    "    [6, -2 ,7, 10],\n",
    "    [-5, 3, 9, 7]]\n",
    ")\n",
    "B = np.array(\n",
    "    [[5], [8], [19] ,[43]]\n",
    ")"
   ]
  },
  {
   "cell_type": "markdown",
   "metadata": {},
   "source": [
    "**Calcul des matrices**"
   ]
  },
  {
   "cell_type": "code",
   "execution_count": 28,
   "metadata": {},
   "outputs": [
    {
     "data": {
      "text/plain": [
       "array([[-1.14608905],\n",
       "       [ 3.93044525],\n",
       "       [ 0.45415162],\n",
       "       [ 3.05583634]])"
      ]
     },
     "execution_count": 28,
     "metadata": {},
     "output_type": "execute_result"
    }
   ],
   "source": [
    "np.dot(np.linalg.inv(A), B)"
   ]
  },
  {
   "cell_type": "markdown",
   "metadata": {},
   "source": [
    "Remplir une matrice : (1, 2, 3, ... 100), (2, 3, 4, ... 101)"
   ]
  },
  {
   "cell_type": "code",
   "execution_count": 29,
   "metadata": {},
   "outputs": [
    {
     "name": "stdout",
     "output_type": "stream",
     "text": [
      "[[  1   2   3 ...  98  99 100]\n",
      " [  2   3   4 ...  99 100 101]\n",
      " [  3   4   5 ... 100 101 102]\n",
      " ...\n",
      " [ 98  99 100 ... 195 196 197]\n",
      " [ 99 100 101 ... 196 197 198]\n",
      " [100 101 102 ... 197 198 199]]\n"
     ]
    }
   ],
   "source": [
    "tab = [[i + j + 1 for j in range (100)] for i in range(100)]\n",
    "A = np.array(tab)\n",
    "print(A)\n",
    "\n",
    "# invA = np.linalg.inv(A)"
   ]
  },
  {
   "cell_type": "markdown",
   "metadata": {},
   "source": [
    "3 droites :\n",
    "d1 passe par (1, 2) dirigée par (8, 2)\n",
    "d2 passe par (6, -4) dirigée par (7, 17)\n",
    "d3 passe par (-7, 4) dirigée par (19, -3)"
   ]
  },
  {
   "cell_type": "code",
   "execution_count": 30,
   "metadata": {},
   "outputs": [
    {
     "name": "stdout",
     "output_type": "stream",
     "text": [
      "[[-0.21428571  1.14285714]\n",
      " [ 8.71428571 -3.14285714]]\n"
     ]
    }
   ],
   "source": [
    "d1 = ([\n",
    "    [8, 1],\n",
    "    [2, 2]\n",
    "])\n",
    "d2 = ([\n",
    "    [7, 6],\n",
    "    [17, -4]\n",
    "])\n",
    "d3 = ([\n",
    "    [19, -7],\n",
    "    [-3, 4]\n",
    "])\n",
    "\n",
    "d1 = np.array(d1)\n",
    "d2 = np.array(d2)\n",
    "\n",
    "print(np.dot(np.linalg.inv(d1), d2))"
   ]
  }
 ],
 "metadata": {
  "kernelspec": {
   "display_name": "Python 3",
   "language": "python",
   "name": "python3"
  },
  "language_info": {
   "codemirror_mode": {
    "name": "ipython",
    "version": 3
   },
   "file_extension": ".py",
   "mimetype": "text/x-python",
   "name": "python",
   "nbconvert_exporter": "python",
   "pygments_lexer": "ipython3",
   "version": "3.12.3"
  }
 },
 "nbformat": 4,
 "nbformat_minor": 2
}
